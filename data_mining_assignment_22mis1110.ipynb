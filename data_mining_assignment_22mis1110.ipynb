{
  "nbformat": 4,
  "nbformat_minor": 0,
  "metadata": {
    "colab": {
      "provenance": [],
      "authorship_tag": "ABX9TyOa4AqNIxlzPyNBK7z9H1ki",
      "include_colab_link": true
    },
    "kernelspec": {
      "name": "python3",
      "display_name": "Python 3"
    },
    "language_info": {
      "name": "python"
    }
  },
  "cells": [
    {
      "cell_type": "markdown",
      "metadata": {
        "id": "view-in-github",
        "colab_type": "text"
      },
      "source": [
        "<a href=\"https://colab.research.google.com/github/amanpanday2811/Data_Mining_Assignment_aman_22MIS1110/blob/main/data_mining_assignment_22mis1110.ipynb\" target=\"_parent\"><img src=\"https://colab.research.google.com/assets/colab-badge.svg\" alt=\"Open In Colab\"/></a>"
      ]
    },
    {
      "cell_type": "code",
      "execution_count": null,
      "metadata": {
        "colab": {
          "base_uri": "https://localhost:8080/"
        },
        "id": "Wy5hOGKy8M-E",
        "outputId": "7bee9251-8d92-4331-cccf-53eb11a3cf2d"
      },
      "outputs": [
        {
          "output_type": "stream",
          "name": "stdout",
          "text": [
            "Predicted Loan Approval for Applicant 1: No\n",
            "Predicted Loan Approval for Applicant 2: No\n",
            "Predicted Loan Approval for Applicant 3: No\n",
            "Predicted Loan Approval for Applicant 4: Yes\n",
            "Predicted Loan Approval for Applicant 5: No\n"
          ]
        }
      ],
      "source": [
        "from sklearn.naive_bayes import GaussianNB\n",
        "data = {\n",
        "    'Credit Score': [600, 700, 750, 650, 720, 680, 800, 620, 690, 710, 680, 740, 770, 730, 780, 760, 710, 690, 730, 780, 750, 760],\n",
        "    'Monthly Income': [5000, 6000, 8000, 4500, 7000, 5500, 9000, 4000, 6200, 5800, 7000, 6500, 8500, 7500, 8200, 6900, 6200, 6500, 7200, 8100, 7800, 7900],\n",
        "    'Account Balance': [10000, 15000, 20000, 8000, 18000, 12000, 25000, 7000, 16000, 14000, 17000, 22000, 23000, 20000, 21000, 19000, 18000, 22000, 23000, 21000, 20000, 19000],\n",
        "    'Previous Loans': [1, 2, 0, 1, 3, 1, 2, 0, 2, 1, 2, 1, 3, 2, 3, 2, 1, 2, 3, 1, 2, 3],\n",
        "    'Repayments': [12, 24, 0, 12, 36, 18, 24, 0, 30, 12, 24, 18, 36, 30, 32, 28, 26, 24, 28, 30, 32, 34],\n",
        "    'Loan Approval': ['Yes', 'Yes', 'Yes', 'No', 'Yes', 'No', 'Yes', 'No', 'Yes', 'No', 'Yes', 'Yes', 'No', 'No', 'Yes', 'Yes', 'No', 'No', 'Yes', 'Yes', 'No', 'Yes']\n",
        "}\n",
        "loan_approval_mapping = {'Yes': 1, 'No': 0}\n",
        "data['Loan Approval'] = [loan_approval_mapping[val] for val in data['Loan Approval']]\n",
        "X = [data['Credit Score'], data['Monthly Income'], data['Account Balance'], data['Previous Loans'], data['Repayments']]\n",
        "X = list(zip(*X))\n",
        "y = data['Loan Approval']\n",
        "clf = GaussianNB()\n",
        "clf.fit(X, y)\n",
        "input_data = [\n",
        "    [680, 6000, 12000, 1, 18],\n",
        "    [750, 8000, 20000, 0, 0],\n",
        "    [620, 4000, 7000, 0, 0],\n",
        "    [720, 7000, 18000, 3, 36],\n",
        "    [650, 4500, 8000, 1, 12]\n",
        "]\n",
        "predictions = clf.predict(input_data)\n",
        "for i, prediction in enumerate(predictions):\n",
        "    print(f\"Predicted Loan Approval for Applicant {i+1}: {'Yes' if prediction == 1 else 'No'}\")\n"
      ]
    },
    {
      "cell_type": "code",
      "source": [],
      "metadata": {
        "id": "Vd9mZvBGCUOz"
      },
      "execution_count": null,
      "outputs": []
    }
  ]
}